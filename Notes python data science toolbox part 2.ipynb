{
 "cells": [
  {
   "attachments": {},
   "cell_type": "markdown",
   "metadata": {},
   "source": [
    "<h1>Iterators</h1>\n",
    "\n",
    "The iterables are objects that are associated with the iter() method.\n",
    "    Appling the iter() method to an iterable creates an iterator.\n",
    "\n",
    "\n",
    "<h2>Iterator:</h2>\n",
    "Are objects that have the next() method which produces the consecutive value\n",
    "We can go one by one or get all values of an iterator using the '*' operator\n",
    "\n",
    "Example:\n",
    "\n",
    "    word = 'Data'\n",
    "    it = iter(word)\n",
    "    print(*it) #it will print D a t a\n",
    "\n",
    "Once we have gotten to the end of our iterator, we have to redifine it in order to traverse it again.\n",
    "\n",
    "<h2>Difference between an iterable and an Iterator</h2>\n",
    "\n",
    "Iterable --> Object that can return an iterator\n",
    "\n",
    "iterator --> Object that keeps state and produces the next value when the next() method is called."
   ]
  },
  {
   "cell_type": "code",
   "execution_count": 1,
   "metadata": {},
   "outputs": [
    {
     "name": "stdout",
     "output_type": "stream",
     "text": [
      "test1\n",
      "test2\n",
      "test3\n",
      "test4\n",
      "test5\n"
     ]
    }
   ],
   "source": [
    "example = ['test1', 'test2', 'test3', 'test4', 'test5', 'test6']\n",
    "iterator = iter(example)\n",
    "for i in range(5):\n",
    "    print(next(iterator))"
   ]
  },
  {
   "attachments": {},
   "cell_type": "markdown",
   "metadata": {},
   "source": [
    "range() method only creates a range object with an iterator that produces the values until it reaches the limit"
   ]
  },
  {
   "attachments": {},
   "cell_type": "markdown",
   "metadata": {},
   "source": [
    "<hr>"
   ]
  },
  {
   "attachments": {},
   "cell_type": "markdown",
   "metadata": {},
   "source": [
    "<h1>Enumerate function</h1>\n",
    "\n",
    "To add a counter to any iterable. It takes any iterable as an argument\n",
    "It returns pairs containing the elements of the original iterable, along with their index within the iterable.\n",
    "The enumerate object is an iterable itself\n",
    "We can modify the beginning of the index with the start argument.\n",
    "Each of the tuples is an index-value pair.\n",
    "\n",
    "    Example:\n",
    "    enumerate(avengers, start=10)\n",
    "\n",
    "<h1>Zip function</h1>\n",
    "This will allow us to stitch together an arbitrary number of iterables.\n",
    "It accepts an arbitrary number of iterables and returns an iterator of tuples\n",
    "The first element is a tuple containing all the firsts elements in the iterables sent to the zip function"
   ]
  },
  {
   "cell_type": "code",
   "execution_count": 2,
   "metadata": {},
   "outputs": [
    {
     "name": "stdout",
     "output_type": "stream",
     "text": [
      "<class 'zip'>\n",
      "[('hawkeye', 'barton'), ('iron man', 'stark'), ('thor', 'odinson'), ('quicksilver', 'maximoff')]\n",
      "hawkeye barton\n",
      "iron man stark\n",
      "thor odinson\n",
      "quicksilver maximoff\n",
      "('hawkeye', 'barton') ('iron man', 'stark') ('thor', 'odinson') ('quicksilver', 'maximoff')\n"
     ]
    }
   ],
   "source": [
    "avengers = ['hawkeye', 'iron man', 'thor', 'quicksilver']\n",
    "names = ['barton', 'stark', 'odinson', 'maximoff']\n",
    "zipExample = zip(avengers, names)\n",
    "print(type(zipExample))\n",
    "\n",
    "exampleToList = list(zipExample)\n",
    "print(exampleToList)\n",
    "\n",
    "for x1, x2 in zip(avengers, names):\n",
    "    print(x1, x2)\n",
    "\n",
    "z = zip(avengers, names)\n",
    "print(*z)"
   ]
  },
  {
   "cell_type": "code",
   "execution_count": 4,
   "metadata": {},
   "outputs": [
    {
     "name": "stdout",
     "output_type": "stream",
     "text": [
      "('charles xavier', 'telepathy') ('bobby drake', 'thermokinesis') ('kurt wagner', 'teleportation') ('max eisenhardt', 'magnetokinesis') ('kitty pryde', 'intangibility')\n",
      "True\n",
      "True\n"
     ]
    }
   ],
   "source": [
    "mutants = ('charles xavier', 'bobby drake', 'kurt wagner', 'max eisenhardt', 'kitty pryde')\n",
    "powers = ('telepathy', 'thermokinesis', 'teleportation', 'magnetokinesis', 'intangibility')\n",
    "\n",
    "# Create a zip object from mutants and powers: z1\n",
    "z1 = zip(mutants, powers)\n",
    "\n",
    "# Print the tuples in z1 by unpacking with *\n",
    "print(*z1)\n",
    "# Re-create a zip object from mutants and powers: z1\n",
    "z1 = zip(mutants, powers)\n",
    "\n",
    "# 'Unzip' the tuples in z1 by unpacking with * and zip(): result1, result2\n",
    "result1, result2 = zip(*z1)\n",
    "\n",
    "# Check if unpacked tuples are equivalent to original tuples\n",
    "print(result1 == mutants)\n",
    "print(result2 == powers)"
   ]
  },
  {
   "attachments": {},
   "cell_type": "markdown",
   "metadata": {},
   "source": [
    "<h1>Using iterators to load large files into memory</h1>\n",
    "\n",
    "Use data chunks when the data to collect is too big to hold in the memory.\n",
    "In order to use chunks while reading a file, we can use a pandas function called read_csv(chunksize = desired Size).\n",
    "    The object created by read_csv is a iterable."
   ]
  },
  {
   "cell_type": "code",
   "execution_count": 21,
   "metadata": {},
   "outputs": [
    {
     "name": "stdout",
     "output_type": "stream",
     "text": [
      "{'en': 97, 'et': 1, 'und': 2}\n"
     ]
    }
   ],
   "source": [
    "import pandas as pd\n",
    "# Define count_entries()\n",
    "def count_entries(csv_file, c_size, colname):\n",
    "    \"\"\"Return a dictionary with counts of\n",
    "    occurrences as value for each key.\"\"\"\n",
    "    \n",
    "    # Initialize an empty dictionary: counts_dict\n",
    "    counts_dict = {}\n",
    "\n",
    "    # Iterate over the file chunk by chunk\n",
    "    for chunk in pd.read_csv(csv_file, chunksize=c_size):\n",
    "\n",
    "        # Iterate over the column in DataFrame\n",
    "        for entry in chunk[colname]:\n",
    "            if entry in counts_dict.keys():\n",
    "                counts_dict[entry] += 1\n",
    "            else:\n",
    "                counts_dict[entry] = 1\n",
    "\n",
    "    # Return counts_dict\n",
    "    return counts_dict\n",
    "\n",
    "# Call count_entries(): result_counts\n",
    "result_counts = count_entries('tweets.csv', 10, 'lang')\n",
    "# Print result_counts\n",
    "print(result_counts)\n"
   ]
  },
  {
   "attachments": {},
   "cell_type": "markdown",
   "metadata": {},
   "source": [
    "<hr>"
   ]
  },
  {
   "attachments": {},
   "cell_type": "markdown",
   "metadata": {},
   "source": [
    "<h1>Optimizing list usage</h1>\n",
    "\n",
    "It's done by list comprehension to operate a complete list wihout multiple lines.\n",
    "\n",
    "Syntax for list comprehension:\n",
    "\n",
    "[output expression for n in n]\n",
    "\n",
    "[output expression <b>for</b> iteratorVariable <b>in iterable</b>]\n",
    "\n",
    "    output expression --> the values that we want to create, it's the n in the for loop, they use the iteratorVariable\n",
    "\n",
    "<h2>Components for list comprehension</h2>\n",
    "<ul>\n",
    " <li>Iterable</li>\n",
    " <li>Iterator variable (members of iterable)</li>\n",
    " <li>Output expression</li>\n",
    "</ul>"
   ]
  },
  {
   "cell_type": "code",
   "execution_count": 4,
   "metadata": {},
   "outputs": [
    {
     "name": "stdout",
     "output_type": "stream",
     "text": [
      "[13, 9, 30, 5, 14]\n",
      "[13, 9, 30, 5, 14]\n",
      "True\n"
     ]
    }
   ],
   "source": [
    "#Example with the traditional form\n",
    "nums = [12, 8, 29, 4, 13]\n",
    "newNums = []\n",
    "\n",
    "#Add 1 to every element in the nums list and append it to newNums\n",
    "for num in nums:\n",
    "    newNums.append(num+1)\n",
    "\n",
    "print(newNums)\n",
    "\n",
    "#Example with list comprehension\n",
    "\n",
    "optimizedNums = [num + 1 for num in nums]\n",
    "\n",
    "print(optimizedNums)\n",
    "print(newNums == optimizedNums) #the output is the same\n"
   ]
  },
  {
   "attachments": {},
   "cell_type": "markdown",
   "metadata": {},
   "source": [
    "<h1>List comprehension and nested loops</h1>\n",
    "\n",
    "We can use nested for loops with list comprehension but the code reading becomes a little difficult"
   ]
  },
  {
   "cell_type": "code",
   "execution_count": 6,
   "metadata": {},
   "outputs": [
    {
     "name": "stdout",
     "output_type": "stream",
     "text": [
      "[(0, 6), (0, 7), (1, 6), (1, 7)]\n",
      "[(0, 6), (0, 7), (1, 6), (1, 7)]\n",
      "True\n"
     ]
    }
   ],
   "source": [
    "#Example with the traditional form\n",
    "newNums = []\n",
    "\n",
    "#Add 1 to every element in the nums list and append it to newNums\n",
    "for num in range(0, 2):\n",
    "    for num2 in range(6, 8):\n",
    "        newNums.append((num, num2))\n",
    "print(newNums)\n",
    "\n",
    "#Example with list comprehension\n",
    "\n",
    "optimizedNums = [(num, num2) for num in range(0,2) for num2 in range(6,8)]\n",
    "\n",
    "print(optimizedNums)\n",
    "print(newNums == optimizedNums) #the output is the same\n"
   ]
  },
  {
   "attachments": {},
   "cell_type": "markdown",
   "metadata": {},
   "source": [
    "<h1>Creating a matrix as a list of lists from list comprehension</h1>"
   ]
  },
  {
   "cell_type": "code",
   "execution_count": 2,
   "metadata": {},
   "outputs": [
    {
     "name": "stdout",
     "output_type": "stream",
     "text": [
      "[0, 1, 2, 3, 4]\n",
      "[0, 1, 2, 3, 4]\n",
      "[0, 1, 2, 3, 4]\n",
      "[0, 1, 2, 3, 4]\n",
      "[0, 1, 2, 3, 4]\n"
     ]
    }
   ],
   "source": [
    "# Create a 5 x 5 matrix using a list of lists: matrix\n",
    "matrix = [[col for col in range(0, 5)] for row in range(0,5)]\n",
    "\n",
    "# Print the matrix\n",
    "for row in matrix:\n",
    "    print(row)\n"
   ]
  },
  {
   "attachments": {},
   "cell_type": "markdown",
   "metadata": {},
   "source": [
    "<hr>\n",
    "<h1>List comprehension with conditionals</h1>\n",
    "\n",
    "We can use conditionals in the iterable that we are going to use for the list comprehension.\n",
    "\n",
    "We can also use conditionals for the output expression\n",
    "\n",
    "[ output expression for iterator variable in iterable if predicate expression ]\n",
    "\n",
    "[output expression + conditionalOnOutput <b>for</b> iteratorVariable <b>in iterable</b> + conditionalOnIterable]"
   ]
  },
  {
   "cell_type": "code",
   "execution_count": 8,
   "metadata": {},
   "outputs": [
    {
     "name": "stdout",
     "output_type": "stream",
     "text": [
      "[0, 4, 16, 36, 64]\n",
      "['samwise', 'aragorn', 'legolas', 'boromir']\n",
      "[0, 0, 4, 0, 16, 0, 36, 0, 64, 0]\n",
      "['', 'samwise', '', 'aragorn', 'legolas', 'boromir', '']\n"
     ]
    }
   ],
   "source": [
    "#Examples with conditional in the iterable\n",
    "iterableList = [num **2 for num in range(10) if num % 2 == 0]##Only take the even numbers\n",
    "print(iterableList)\n",
    "\n",
    "# Create a list of strings: fellowship\n",
    "fellowship = ['frodo', 'samwise', 'merry', 'aragorn', 'legolas', 'boromir', 'gimli']\n",
    "\n",
    "# Create list comprehension: new_fellowship\n",
    "new_fellowship = [member for member in fellowship if len(member) >= 7]\n",
    "\n",
    "# Print the new list\n",
    "print(new_fellowship)\n",
    "\n",
    "\n",
    "#Example with a conditional in the output expression\n",
    "##if the statement is true it will add the output expression, else it will add 0\n",
    "outputLit = [num**2 if num % 2 == 0 else 0 for num in range(10)]\n",
    "print(outputLit)\n",
    "\n",
    "# Create list comprehension: new_fellowship\n",
    "new_fellowship2 = [member if len(member) >= 7 else '' for member in fellowship]\n",
    "\n",
    "# Print the new list\n",
    "print(new_fellowship2)"
   ]
  },
  {
   "attachments": {},
   "cell_type": "markdown",
   "metadata": {},
   "source": [
    "<h1>Dict comprehension</h1>\n",
    "\n",
    "It has two main characteristics\n",
    "\n",
    "<ol>\n",
    "    <li>It uses curly braces {} instead of brackets []</li>\n",
    "    <li>The key and the value are separated by a colon in the output expression</li>\n",
    "</ol>"
   ]
  },
  {
   "cell_type": "code",
   "execution_count": 9,
   "metadata": {},
   "outputs": [
    {
     "name": "stdout",
     "output_type": "stream",
     "text": [
      "{0: 0, 1: -1, 2: -2, 3: -3, 4: -4, 5: -5, 6: -6, 7: -7, 8: -8, 9: -9}\n",
      "{'frodo': 5, 'samwise': 7, 'merry': 5, 'aragorn': 7, 'legolas': 7, 'boromir': 7, 'gimli': 5}\n"
     ]
    }
   ],
   "source": [
    "#Example of Dic comprehension\n",
    "pos_neg = {num: -num for num in range(10)}\n",
    "print(pos_neg)\n",
    "\n",
    "# Create dict comprehension: new_fellowship\n",
    "new_fellowship3 = {member: len(member) for member in fellowship}\n",
    "\n",
    "# Print the new dictionary\n",
    "print(new_fellowship3)"
   ]
  },
  {
   "attachments": {},
   "cell_type": "markdown",
   "metadata": {},
   "source": [
    "<hr>\n",
    "<h1>Introduction to generator expressions</h1>\n",
    "<ul>\n",
    "    <li>It uses the same syntax as the list comprehension, the difference is that we don't use \"[]\", we use \"()\"</li>\n",
    "    <li>It does not store the list in memory</li>\n",
    "    <li>It does not construct the object, but is an object we can iterate to produce elements of the list required.</li>\n",
    "    <li>We are able to apply conditionals and filter while using generator expressions</li>\n",
    "</ul>"
   ]
  },
  {
   "cell_type": "code",
   "execution_count": 3,
   "metadata": {},
   "outputs": [
    {
     "name": "stdout",
     "output_type": "stream",
     "text": [
      "<generator object <genexpr> at 0x000002160C4DF370>\n",
      "[0, 2, 4, 6, 8]\n"
     ]
    }
   ],
   "source": [
    "#With generator expressions we can easily create large sequences\n",
    "#Example of a large sequence that cannot be represented by a list comprehension\n",
    "expression = (num for num in range(10**1000000))\n",
    "print(expression)\n",
    "\n",
    "#Example applying conditionals in generator expressions\n",
    "evenNums = (num for num in range(10) if num % 2 == 0)\n",
    "print(list(evenNums))"
   ]
  },
  {
   "attachments": {},
   "cell_type": "markdown",
   "metadata": {},
   "source": [
    "<h1>Generator functions</h1>\n",
    "\n",
    "These are functions that, when called, produce generator objects\n",
    "\n",
    "They have the same syntax as any user-defined function\n",
    "\n",
    "- Instead of returning values, they yield sequences of values using the keyword \"yield\"\n",
    "    \n",
    "- This helps us to only generate the requested values optimizing the memory usage\n"
   ]
  },
  {
   "cell_type": "code",
   "execution_count": 6,
   "metadata": {},
   "outputs": [
    {
     "name": "stdout",
     "output_type": "stream",
     "text": [
      "[0, 1, 2, 3, 4]\n"
     ]
    }
   ],
   "source": [
    "#Example of a generator function\n",
    "def numSequence(n):\n",
    "    \"\"\"Generate values from 0 to n\"\"\"\n",
    "    i = 0\n",
    "    while i < n:\n",
    "        yield i\n",
    "        i += 1\n",
    "\n",
    "print(list(numSequence(5)))"
   ]
  },
  {
   "cell_type": "code",
   "execution_count": 7,
   "metadata": {},
   "outputs": [
    {
     "name": "stdout",
     "output_type": "stream",
     "text": [
      "6\n",
      "5\n",
      "5\n",
      "6\n",
      "7\n"
     ]
    }
   ],
   "source": [
    "# Create a list of strings\n",
    "lannister = ['cersei', 'jaime', 'tywin', 'tyrion', 'joffrey']\n",
    "\n",
    "# Define generator function get_lengths\n",
    "def get_lengths(input_list):\n",
    "    \"\"\"Generator function that yields the\n",
    "    length of the strings in input_list.\"\"\"\n",
    "\n",
    "    # Yield the length of a string\n",
    "    for person in input_list:\n",
    "        yield len(person)\n",
    "\n",
    "# Print the values generated by get_lengths()\n",
    "for value in get_lengths(lannister):\n",
    "    print(value)"
   ]
  },
  {
   "attachments": {},
   "cell_type": "markdown",
   "metadata": {},
   "source": [
    "<h1>Example with tweets.csv</h1>\n",
    "\n",
    "Using pandas and list comprehension"
   ]
  },
  {
   "cell_type": "code",
   "execution_count": 14,
   "metadata": {},
   "outputs": [
    {
     "name": "stdout",
     "output_type": "stream",
     "text": [
      "['23:40:17', '23:40:17', '23:40:17', '23:40:17', '23:40:17', '23:40:17', '23:40:18', '23:40:17', '23:40:18', '23:40:18', '23:40:18', '23:40:17', '23:40:18', '23:40:18', '23:40:17', '23:40:18', '23:40:18', '23:40:17', '23:40:18', '23:40:17', '23:40:18', '23:40:18', '23:40:18', '23:40:18', '23:40:17', '23:40:18', '23:40:18', '23:40:17', '23:40:18', '23:40:18', '23:40:18', '23:40:18', '23:40:18', '23:40:18', '23:40:18', '23:40:18', '23:40:18', '23:40:18', '23:40:18', '23:40:18', '23:40:18', '23:40:18', '23:40:18', '23:40:18', '23:40:18', '23:40:18', '23:40:18', '23:40:18', '23:40:18', '23:40:18', '23:40:18', '23:40:18', '23:40:18', '23:40:18', '23:40:18', '23:40:18', '23:40:18', '23:40:18', '23:40:18', '23:40:18', '23:40:19', '23:40:18', '23:40:18', '23:40:18', '23:40:19', '23:40:19', '23:40:19', '23:40:18', '23:40:19', '23:40:19', '23:40:19', '23:40:18', '23:40:19', '23:40:19', '23:40:19', '23:40:18', '23:40:19', '23:40:19', '23:40:19', '23:40:19', '23:40:19', '23:40:19', '23:40:19', '23:40:19', '23:40:19', '23:40:19', '23:40:19', '23:40:19', '23:40:19', '23:40:19', '23:40:19', '23:40:19', '23:40:19', '23:40:19', '23:40:19', '23:40:19', '23:40:19', '23:40:19', '23:40:19', '23:40:19']\n"
     ]
    }
   ],
   "source": [
    "# Extract the created_at column from df: tweet_time\n",
    "import pandas as pd\n",
    "df = pd.read_csv('tweets.csv')\n",
    "tweet_time = df['created_at']\n",
    "\n",
    "# Extract the clock time only from the tweets sent by 19:00 h or later\n",
    "tweet_clock_time = [entry[11:19] for entry in tweet_time if int(entry[11:13]) >= 19]\n",
    "\n",
    "# Print the extracted times\n",
    "print(tweet_clock_time)\n"
   ]
  }
 ],
 "metadata": {
  "kernelspec": {
   "display_name": "Python 3.10.7 64-bit",
   "language": "python",
   "name": "python3"
  },
  "language_info": {
   "codemirror_mode": {
    "name": "ipython",
    "version": 3
   },
   "file_extension": ".py",
   "mimetype": "text/x-python",
   "name": "python",
   "nbconvert_exporter": "python",
   "pygments_lexer": "ipython3",
   "version": "3.10.7 (tags/v3.10.7:6cc6b13, Sep  5 2022, 14:08:36) [MSC v.1933 64 bit (AMD64)]"
  },
  "orig_nbformat": 4,
  "vscode": {
   "interpreter": {
    "hash": "91e32b75ecf3080d170411cb1649c483b59a4efe3288a5b0a9b6b201a0b09750"
   }
  }
 },
 "nbformat": 4,
 "nbformat_minor": 2
}
