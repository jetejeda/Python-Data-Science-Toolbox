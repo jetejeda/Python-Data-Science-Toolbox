{
 "cells": [
  {
   "attachments": {},
   "cell_type": "markdown",
   "metadata": {},
   "source": [
    "Functions"
   ]
  },
  {
   "cell_type": "code",
   "execution_count": 1,
   "metadata": {},
   "outputs": [],
   "source": [
    "def FirstFunction():\n",
    "    \"\"\"After the header of a function we can use this syntax to create the description of our function \"\"\"\n",
    "    print(\"First function in python\")"
   ]
  },
  {
   "cell_type": "code",
   "execution_count": 2,
   "metadata": {},
   "outputs": [
    {
     "name": "stdout",
     "output_type": "stream",
     "text": [
      "First function in python\n"
     ]
    }
   ],
   "source": [
    "FirstFunction()"
   ]
  },
  {
   "attachments": {},
   "cell_type": "markdown",
   "metadata": {},
   "source": [
    "In functions we can return more than one value, we can achieve that by using tuples\n",
    "values = (value1, value2)"
   ]
  },
  {
   "cell_type": "code",
   "execution_count": 2,
   "metadata": {},
   "outputs": [
    {
     "name": "stdout",
     "output_type": "stream",
     "text": [
      "{'test': 1}\n",
      "<class 'dict'>\n"
     ]
    }
   ],
   "source": [
    "import pandas as pd\n",
    "var = {}\n",
    "var[\"test\"] = 1\n",
    "\n",
    "print(var)\n",
    "print(type(var))"
   ]
  },
  {
   "attachments": {},
   "cell_type": "markdown",
   "metadata": {},
   "source": [
    "<h1>Nested functions</h1>\n",
    "\n",
    "This could be usefull for embedded functions. We have to keep in maind that the inner functions keeps the status of the outer function, even if the outer function has already finished it's execution.\n",
    "For example, in the inner_echo function which uses the n parameter of the outer function (echo), we are still able to execute inner_echo after echo finished the execution, in the next example echo returns inner_echo function which after that is going to be accessible using the same n that it received from its outer function (echo), but changing the word1 parameter as needed."
   ]
  },
  {
   "cell_type": "code",
   "execution_count": 3,
   "metadata": {},
   "outputs": [
    {
     "name": "stdout",
     "output_type": "stream",
     "text": [
      "hellohello hellohellohello\n"
     ]
    }
   ],
   "source": [
    "# Define echo\n",
    "def echo(n):\n",
    "    \"\"\"Return the inner_echo function.\"\"\"\n",
    "\n",
    "    # Define inner_echo\n",
    "    def inner_echo(word1):\n",
    "        \"\"\"Concatenate n copies of word1.\"\"\"\n",
    "        echo_word = word1 * n\n",
    "        return echo_word\n",
    "\n",
    "    # Return inner_echo\n",
    "    return inner_echo\n",
    "\n",
    "# Call echo: twice\n",
    "twice = echo(2)\n",
    "\n",
    "# Call echo: thrice\n",
    "thrice = echo(3)\n",
    "\n",
    "# Call twice() and thrice() then print\n",
    "print(twice('hello'), thrice('hello'))"
   ]
  },
  {
   "attachments": {},
   "cell_type": "markdown",
   "metadata": {},
   "source": [
    "In order to use a variable from the outer function, we can use the keyword nonlocal in the inner function.\n",
    "\n",
    "syntax:\n",
    "\n",
    "nonlocal variableFromOuterScopeName"
   ]
  },
  {
   "cell_type": "markdown",
   "metadata": {},
   "source": [
    "<hr>"
   ]
  },
  {
   "attachments": {},
   "cell_type": "markdown",
   "metadata": {},
   "source": [
    "When we are creating functions, we can define default values for our parameters.\n",
    "\n",
    "Syntax:\n",
    "def function1(param1, param2 = 1):\n",
    "\n",
    "We can also define functions that can receive multiple values (n values).\n",
    "\n",
    "Syntax:\n",
    "def function2(*args):\n",
    "    The function will receive the multiple values in a tuple object"
   ]
  },
  {
   "cell_type": "code",
   "execution_count": 5,
   "metadata": {},
   "outputs": [
    {
     "name": "stdout",
     "output_type": "stream",
     "text": [
      "6\n",
      "11\n"
     ]
    }
   ],
   "source": [
    "def add_all(*arguments):\n",
    "    \"\"\"Sum all values in *arguments together\"\"\"\n",
    "    #Initialize sum\n",
    "    sum_all = 0\n",
    "    \n",
    "    #Acumulate the Sum\n",
    "    for num in arguments:\n",
    "        sum_all += num\n",
    "    \n",
    "    return sum_all\n",
    "\n",
    "print(add_all(1, 2, 3))\n",
    "print(add_all(5, 6))"
   ]
  },
  {
   "attachments": {},
   "cell_type": "markdown",
   "metadata": {},
   "source": [
    "When creating functions, we can also define multiple key-value arguments\n",
    "\n",
    "Syntax:\n",
    "\n",
    "def example12(**arguments):"
   ]
  },
  {
   "cell_type": "code",
   "execution_count": 1,
   "metadata": {},
   "outputs": [
    {
     "name": "stdout",
     "output_type": "stream",
     "text": [
      "one: 1\n",
      "two: 2\n",
      "\n",
      "three: 3\n",
      "four: 4\n",
      "\n"
     ]
    }
   ],
   "source": [
    "def print_all(**arguments):\n",
    "    \"\"\"Print out key-value pairs in **kwargs\"\"\"\n",
    "\n",
    "    #print out the key-value pairs\n",
    "    for key, value in arguments.items():\n",
    "        print(key + \": \" + value)\n",
    "    print()\n",
    "\n",
    "print_all(one='1', two = '2')\n",
    "print_all(three = '3', four = '4')"
   ]
  },
  {
   "attachments": {},
   "cell_type": "markdown",
   "metadata": {},
   "source": [
    "<h1>Lambda functions</h1>\n",
    "\n",
    "They have a simple syntax:\n",
    "\n",
    "raise_to_power = lambda x, y: x**y\n",
    "raise_to_power(2, 3)\n",
    "\n",
    "They have a lot of uses for example in the functions map(), filter(), and reduce(). When they're used in these cases, they are called anonymous functions.\n",
    "\n",
    "Example using map():\n",
    "map(LambdaFunc, seq)"
   ]
  },
  {
   "cell_type": "code",
   "execution_count": 14,
   "metadata": {},
   "outputs": [
    {
     "name": "stdout",
     "output_type": "stream",
     "text": [
      "[2500, 36, 4, 441]\n"
     ]
    }
   ],
   "source": [
    "nums = [50, 6, 2, 21]\n",
    "\n",
    "squareAll = map(lambda n: n ** 2, nums)\n",
    "\n",
    "#In order to show the content, it is necessary to parse it into a list\n",
    "print(list(squareAll))"
   ]
  },
  {
   "attachments": {},
   "cell_type": "markdown",
   "metadata": {},
   "source": [
    "<h1>Filter function</h1>\n",
    "\n",
    "It requests a function and an iterable object in which the function is going to be applied.\n",
    "It returns only the values of the object that fulfill the condition."
   ]
  },
  {
   "cell_type": "code",
   "execution_count": 16,
   "metadata": {},
   "outputs": [
    {
     "name": "stdout",
     "output_type": "stream",
     "text": [
      "['samwise', 'aragorn', 'boromir', 'legolas', 'gandalf']\n",
      "<filter object at 0x000001BF4F52A530>\n"
     ]
    }
   ],
   "source": [
    "# Create a list of strings: fellowship\n",
    "fellowship = ['frodo', 'samwise', 'merry', 'pippin', 'aragorn', 'boromir', 'legolas', 'gimli', 'gandalf']\n",
    "\n",
    "# Use filter() to apply a lambda function over fellowship: result\n",
    "result = filter(lambda member: len(member) > 6, fellowship)\n",
    "\n",
    "# Convert result to a list: result_list\n",
    "result_list = list(result)\n",
    "\n",
    "# Print result_list\n",
    "print(result_list)\n",
    "print(result)"
   ]
  },
  {
   "attachments": {},
   "cell_type": "markdown",
   "metadata": {},
   "source": [
    "<h1>Reduce function</h1>\n",
    "\n",
    "It's from the functools module.\n",
    "It returns a single value as a result"
   ]
  },
  {
   "cell_type": "code",
   "execution_count": 17,
   "metadata": {},
   "outputs": [
    {
     "name": "stdout",
     "output_type": "stream",
     "text": [
      "robbsansaaryabrandonrickon\n"
     ]
    }
   ],
   "source": [
    "# Import reduce from functools\n",
    "from functools import reduce\n",
    "\n",
    "# Create a list of strings: stark\n",
    "stark = ['robb', 'sansa', 'arya', 'brandon', 'rickon']\n",
    "\n",
    "# Use reduce() to apply a lambda function over stark: result\n",
    "result = reduce(lambda item1, item2: item1 + item2, stark)\n",
    "\n",
    "# Print the result\n",
    "print(result)"
   ]
  },
  {
   "attachments": {},
   "cell_type": "markdown",
   "metadata": {},
   "source": [
    "<h1>Error handling in functions</h1>\n",
    "\n",
    "Used in order to create specific errors in order to have an easier and faster debugging.\n",
    "\n",
    "<h2>Some examples</h2>\n",
    "Exceptions --> Errors during the execution of the code\n",
    "    We can handle them using try-except\n",
    "    We can handle specific errors just by indicating  the errors that we want to cover\n",
    "        The errors that we specify are going to be managed, the ones that don't will continue\n",
    "\n",
    "We can define our own errors using the raise keyword\n",
    "\n",
    "raise ValueError('Error description')"
   ]
  },
  {
   "cell_type": "code",
   "execution_count": 19,
   "metadata": {},
   "outputs": [
    {
     "ename": "ValueError",
     "evalue": "echo must be greater than or equal to 0",
     "output_type": "error",
     "traceback": [
      "\u001b[1;31m---------------------------------------------------------------------------\u001b[0m",
      "\u001b[1;31mValueError\u001b[0m                                Traceback (most recent call last)",
      "Cell \u001b[1;32mIn [19], line 20\u001b[0m\n\u001b[0;32m     17\u001b[0m     \u001b[39mreturn\u001b[39;00m shout_word\n\u001b[0;32m     19\u001b[0m \u001b[39m# Call shout_echo\u001b[39;00m\n\u001b[1;32m---> 20\u001b[0m shout_echo(\u001b[39m\"\u001b[39;49m\u001b[39mparticle\u001b[39;49m\u001b[39m\"\u001b[39;49m, echo\u001b[39m=\u001b[39;49m\u001b[39m-\u001b[39;49m\u001b[39m5\u001b[39;49m)\n",
      "Cell \u001b[1;32mIn [19], line 8\u001b[0m, in \u001b[0;36mshout_echo\u001b[1;34m(word1, echo)\u001b[0m\n\u001b[0;32m      6\u001b[0m \u001b[39m# Raise an error with raise\u001b[39;00m\n\u001b[0;32m      7\u001b[0m \u001b[39mif\u001b[39;00m echo \u001b[39m<\u001b[39m \u001b[39m0\u001b[39m:\n\u001b[1;32m----> 8\u001b[0m     \u001b[39mraise\u001b[39;00m \u001b[39mValueError\u001b[39;00m(\u001b[39m'\u001b[39m\u001b[39mecho must be greater than or equal to 0\u001b[39m\u001b[39m'\u001b[39m)\n\u001b[0;32m     10\u001b[0m \u001b[39m# Concatenate echo copies of word1 using *: echo_word\u001b[39;00m\n\u001b[0;32m     11\u001b[0m echo_word \u001b[39m=\u001b[39m word1 \u001b[39m*\u001b[39m echo\n",
      "\u001b[1;31mValueError\u001b[0m: echo must be greater than or equal to 0"
     ]
    }
   ],
   "source": [
    "# Define shout_echo\n",
    "def shout_echo(word1, echo=1):\n",
    "    \"\"\"Concatenate echo copies of word1 and three\n",
    "    exclamation marks at the end of the string.\"\"\"\n",
    "\n",
    "    # Raise an error with raise\n",
    "    if echo < 0:\n",
    "        raise ValueError('echo must be greater than or equal to 0')\n",
    "\n",
    "    # Concatenate echo copies of word1 using *: echo_word\n",
    "    echo_word = word1 * echo\n",
    "\n",
    "    # Concatenate '!!!' to echo_word: shout_word\n",
    "    shout_word = echo_word + '!!!'\n",
    "\n",
    "    # Return shout_word\n",
    "    return shout_word\n",
    "\n",
    "# Call shout_echo\n",
    "shout_echo(\"particle\", echo=-5)"
   ]
  }
 ],
 "metadata": {
  "kernelspec": {
   "display_name": "Python 3.10.7 64-bit",
   "language": "python",
   "name": "python3"
  },
  "language_info": {
   "codemirror_mode": {
    "name": "ipython",
    "version": 3
   },
   "file_extension": ".py",
   "mimetype": "text/x-python",
   "name": "python",
   "nbconvert_exporter": "python",
   "pygments_lexer": "ipython3",
   "version": "3.10.9"
  },
  "orig_nbformat": 4,
  "vscode": {
   "interpreter": {
    "hash": "91e32b75ecf3080d170411cb1649c483b59a4efe3288a5b0a9b6b201a0b09750"
   }
  }
 },
 "nbformat": 4,
 "nbformat_minor": 2
}
