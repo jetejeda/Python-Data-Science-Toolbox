{
 "cells": [
  {
   "attachments": {},
   "cell_type": "markdown",
   "metadata": {},
   "source": [
    "<h1>Iterators</h1>\n",
    "\n",
    "The iterables are objects that are associated with the iter() method.\n",
    "    Appling the iter() method to an iterable creates an iterator.\n",
    "\n",
    "\n",
    "<h2>Iterator:</h2>\n",
    "Are objects that have the next() method which produces the consecutive value\n",
    "We can go one by one or get all values of an iterator using the '*' operator\n",
    "\n",
    "Example:\n",
    "\n",
    "    word = 'Data'\n",
    "    it = iter(word)\n",
    "    print(*it) #it will print D a t a\n",
    "\n",
    "Once we have gotten to the end of our iterator, we have to redifine it in order to traverse it again.\n",
    "\n",
    "<h2>Difference between an iterable and an Iterator</h2>\n",
    "\n",
    "Iterable --> Object that can return an iterator\n",
    "\n",
    "iterator --> Object that keeps state and produces the next value when the next() method is called."
   ]
  },
  {
   "cell_type": "code",
   "execution_count": 5,
   "metadata": {},
   "outputs": [
    {
     "name": "stdout",
     "output_type": "stream",
     "text": [
      "test1\n",
      "test2\n",
      "test3\n",
      "test4\n",
      "test5\n"
     ]
    }
   ],
   "source": [
    "example = ['test1', 'test2', 'test3', 'test4', 'test5', 'test6']\n",
    "iterator = iter(example)\n",
    "for i in range(5):\n",
    "    print(next(iterator))"
   ]
  },
  {
   "attachments": {},
   "cell_type": "markdown",
   "metadata": {},
   "source": [
    "range() method only creates a range object with an iterator that produces the values until it reaches the limit"
   ]
  },
  {
   "attachments": {},
   "cell_type": "markdown",
   "metadata": {},
   "source": [
    "<hr>"
   ]
  }
 ],
 "metadata": {
  "kernelspec": {
   "display_name": "Python 3.10.7 64-bit",
   "language": "python",
   "name": "python3"
  },
  "language_info": {
   "codemirror_mode": {
    "name": "ipython",
    "version": 3
   },
   "file_extension": ".py",
   "mimetype": "text/x-python",
   "name": "python",
   "nbconvert_exporter": "python",
   "pygments_lexer": "ipython3",
   "version": "3.10.7"
  },
  "orig_nbformat": 4,
  "vscode": {
   "interpreter": {
    "hash": "91e32b75ecf3080d170411cb1649c483b59a4efe3288a5b0a9b6b201a0b09750"
   }
  }
 },
 "nbformat": 4,
 "nbformat_minor": 2
}
