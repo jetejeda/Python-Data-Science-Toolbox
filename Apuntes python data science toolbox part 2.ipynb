{
 "cells": [
  {
   "attachments": {},
   "cell_type": "markdown",
   "metadata": {},
   "source": [
    "<h1>Iterators</h1>\n",
    "\n",
    "The iterables are objects that are associated with the iter() method.\n",
    "    Appling the iter() method to an iterable creates an iterator.\n",
    "\n",
    "\n",
    "<h2>Iterator:</h2>\n",
    "Are objects that have the next() method which produces the consecutive value\n",
    "We can go one by one or get all values of an iterator using the '*' operator\n",
    "\n",
    "Example:\n",
    "\n",
    "    word = 'Data'\n",
    "    it = iter(word)\n",
    "    print(*it) #it will print D a t a\n",
    "\n",
    "Once we have gotten to the end of our iterator, we have to redifine it in order to traverse it again.\n",
    "\n",
    "<h2>Difference between an iterable and an Iterator</h2>\n",
    "\n",
    "Iterable --> Object that can return an iterator\n",
    "\n",
    "iterator --> Object that keeps state and produces the next value when the next() method is called."
   ]
  },
  {
   "cell_type": "code",
   "execution_count": 1,
   "metadata": {},
   "outputs": [
    {
     "name": "stdout",
     "output_type": "stream",
     "text": [
      "test1\n",
      "test2\n",
      "test3\n",
      "test4\n",
      "test5\n"
     ]
    }
   ],
   "source": [
    "example = ['test1', 'test2', 'test3', 'test4', 'test5', 'test6']\n",
    "iterator = iter(example)\n",
    "for i in range(5):\n",
    "    print(next(iterator))"
   ]
  },
  {
   "attachments": {},
   "cell_type": "markdown",
   "metadata": {},
   "source": [
    "range() method only creates a range object with an iterator that produces the values until it reaches the limit"
   ]
  },
  {
   "attachments": {},
   "cell_type": "markdown",
   "metadata": {},
   "source": [
    "<hr>"
   ]
  },
  {
   "attachments": {},
   "cell_type": "markdown",
   "metadata": {},
   "source": [
    "<h1>Enumerate function</h1>\n",
    "\n",
    "To add a counter to any iterable. It takes any iterable as an argument\n",
    "It returns pairs containing the elements of the original iterable, along with their index within the iterable.\n",
    "The enumerate object is an iterable itself\n",
    "We can modify the beginning of the index with the start argument.\n",
    "Each of the tuples is an index-value pair.\n",
    "\n",
    "    Example:\n",
    "    enumerate(avengers, start=10)\n",
    "\n",
    "<h1>Zip function</h1>\n",
    "This will allow us to stitch together an arbitrary number of iterables.\n",
    "It accepts an arbitrary number of iterables and returns an iterator of tuples\n",
    "The first element is a tuple containing all the firsts elements in the iterables sent to the zip function"
   ]
  },
  {
   "cell_type": "code",
   "execution_count": 2,
   "metadata": {},
   "outputs": [
    {
     "name": "stdout",
     "output_type": "stream",
     "text": [
      "<class 'zip'>\n",
      "[('hawkeye', 'barton'), ('iron man', 'stark'), ('thor', 'odinson'), ('quicksilver', 'maximoff')]\n",
      "hawkeye barton\n",
      "iron man stark\n",
      "thor odinson\n",
      "quicksilver maximoff\n",
      "('hawkeye', 'barton') ('iron man', 'stark') ('thor', 'odinson') ('quicksilver', 'maximoff')\n"
     ]
    }
   ],
   "source": [
    "avengers = ['hawkeye', 'iron man', 'thor', 'quicksilver']\n",
    "names = ['barton', 'stark', 'odinson', 'maximoff']\n",
    "zipExample = zip(avengers, names)\n",
    "print(type(zipExample))\n",
    "\n",
    "exampleToList = list(zipExample)\n",
    "print(exampleToList)\n",
    "\n",
    "for x1, x2 in zip(avengers, names):\n",
    "    print(x1, x2)\n",
    "\n",
    "z = zip(avengers, names)\n",
    "print(*z)"
   ]
  },
  {
   "cell_type": "code",
   "execution_count": 4,
   "metadata": {},
   "outputs": [
    {
     "name": "stdout",
     "output_type": "stream",
     "text": [
      "('charles xavier', 'telepathy') ('bobby drake', 'thermokinesis') ('kurt wagner', 'teleportation') ('max eisenhardt', 'magnetokinesis') ('kitty pryde', 'intangibility')\n",
      "True\n",
      "True\n"
     ]
    }
   ],
   "source": [
    "mutants = ('charles xavier', 'bobby drake', 'kurt wagner', 'max eisenhardt', 'kitty pryde')\n",
    "powers = ('telepathy', 'thermokinesis', 'teleportation', 'magnetokinesis', 'intangibility')\n",
    "\n",
    "# Create a zip object from mutants and powers: z1\n",
    "z1 = zip(mutants, powers)\n",
    "\n",
    "# Print the tuples in z1 by unpacking with *\n",
    "print(*z1)\n",
    "# Re-create a zip object from mutants and powers: z1\n",
    "z1 = zip(mutants, powers)\n",
    "\n",
    "# 'Unzip' the tuples in z1 by unpacking with * and zip(): result1, result2\n",
    "result1, result2 = zip(*z1)\n",
    "\n",
    "# Check if unpacked tuples are equivalent to original tuples\n",
    "print(result1 == mutants)\n",
    "print(result2 == powers)"
   ]
  }
 ],
 "metadata": {
  "kernelspec": {
   "display_name": "Python 3.10.7 64-bit",
   "language": "python",
   "name": "python3"
  },
  "language_info": {
   "codemirror_mode": {
    "name": "ipython",
    "version": 3
   },
   "file_extension": ".py",
   "mimetype": "text/x-python",
   "name": "python",
   "nbconvert_exporter": "python",
   "pygments_lexer": "ipython3",
   "version": "3.10.7"
  },
  "orig_nbformat": 4,
  "vscode": {
   "interpreter": {
    "hash": "91e32b75ecf3080d170411cb1649c483b59a4efe3288a5b0a9b6b201a0b09750"
   }
  }
 },
 "nbformat": 4,
 "nbformat_minor": 2
}
